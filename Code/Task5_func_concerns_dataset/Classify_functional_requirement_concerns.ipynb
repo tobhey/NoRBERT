{
  "nbformat": 4,
  "nbformat_minor": 2,
  "metadata": {
    "accelerator": "GPU",
    "colab": {
      "name": "Classify_functional_requirement_concerns.ipynb",
      "provenance": [],
      "collapsed_sections": [],
      "toc_visible": true,
      "machine_shape": "hm"
    },
    "kernelspec": {
      "display_name": "Python 3",
      "language": "python",
      "name": "python3"
    },
    "language_info": {
      "codemirror_mode": {
        "name": "ipython",
        "version": 3
      },
      "file_extension": ".py",
      "mimetype": "text/x-python",
      "name": "python",
      "nbconvert_exporter": "python",
      "pygments_lexer": "ipython3",
      "version": "3.7.3"
    }
  },
  "cells": [
    {
      "cell_type": "markdown",
      "source": [
        "[![Open In Colab](https://colab.research.google.com/assets/colab-badge.svg)](https://colab.research.google.com/github/tobhey/NoRBERT/blob/master/Code/Task5_func_concerns_dataset/func_concerns.csv)"
      ],
      "metadata": {
        "id": "_4NzfRZGk-Y-",
        "colab_type": "text"
      }
    },
    {
      "cell_type": "markdown",
      "source": [
        "# Binary Classification of functional requirement concerns on concern dataset based on Promise NFR Dataset"
      ],
      "metadata": {
        "id": "FsFmEo4S1vIg",
        "colab_type": "text"
      }
    },
    {
      "cell_type": "markdown",
      "source": [
        "This notebook includes all code needed to train and evaluate a binary classifier for predicting which functional requirement concerns a requirement (Function, Data, or Behavior)  includes."
      ],
      "metadata": {
        "id": "LgiN7exD149z",
        "colab_type": "text"
      }
    },
    {
      "cell_type": "markdown",
      "source": [
        "Note: some cells are hidden and only the title is shown. To display the code, double-click the cell to switch the display mode.\r\n"
      ],
      "metadata": {
        "id": "C_1tGyyh2Kv1",
        "colab_type": "text"
      }
    },
    {
      "cell_type": "markdown",
      "source": [
        "## Prepare\r\n",
        "Install required libraries and import"
      ],
      "metadata": {
        "colab_type": "text",
        "id": "-djxLyuc-Opk"
      }
    },
    {
      "cell_type": "code",
      "execution_count": null,
      "source": [
        "#@title Install needed libraries {display-mode: \"form\"}\r\n",
        "!pip install pytorch-transformers fastprogress"
      ],
      "outputs": [],
      "metadata": {
        "colab_type": "code",
        "id": "Epk5taxa99eI",
        "scrolled": false,
        "colab": {}
      }
    },
    {
      "cell_type": "code",
      "execution_count": null,
      "source": [
        "#@title Import python packages\r\n",
        "import numpy as np\r\n",
        "import pandas as pd\r\n",
        "import torch\r\n",
        "import torch.nn as nn\r\n",
        "import os\r\n",
        "\r\n",
        "from fastai import *\r\n",
        "from fastai.text import *\r\n",
        "from fastai.callbacks import *\r\n",
        "from sklearn.model_selection import train_test_split, StratifiedKFold\r\n",
        "from sklearn.metrics import classification_report, precision_recall_fscore_support\r\n",
        "from sklearn.utils.multiclass import unique_labels\r\n",
        "\r\n",
        "from pytorch_transformers import BertTokenizer, BertPreTrainedModel, BertModel, BertConfig\r\n",
        "from pytorch_transformers import AdamW\r\n",
        "\r\n",
        "from fastprogress import master_bar, progress_bar\r\n",
        "from datetime import datetime"
      ],
      "outputs": [],
      "metadata": {
        "colab_type": "code",
        "id": "Fr6bTWdl-XzF",
        "cellView": "form",
        "colab": {}
      }
    },
    {
      "cell_type": "code",
      "execution_count": null,
      "source": [
        "#@title Check, if and what kind of GPU is used\r\n",
        "def get_memory_usage():\r\n",
        "    return torch.cuda.memory_allocated(device)/1000000\r\n",
        "\r\n",
        "def get_memory_usage_str():\r\n",
        "    return 'Memory usage: {:.2f} MB'.format(get_memory_usage())\r\n",
        "\r\n",
        "cuda_available = torch.cuda.is_available()\r\n",
        "if cuda_available:\r\n",
        "    curr_device = torch.cuda.current_device()\r\n",
        "    print(torch.cuda.get_device_name(curr_device))\r\n",
        "device = torch.device(\"cuda\" if cuda_available else \"cpu\")\r\n",
        "device"
      ],
      "outputs": [],
      "metadata": {
        "colab_type": "code",
        "id": "Wtzha3q7QjjU",
        "cellView": "form",
        "colab": {}
      }
    },
    {
      "cell_type": "markdown",
      "source": [
        "### Define configuration used in this experiment run"
      ],
      "metadata": {
        "colab_type": "text",
        "id": "mOKXVgJgGtYV"
      }
    },
    {
      "cell_type": "markdown",
      "source": [
        "Create config and set hyperparameters.\r\n",
        "One can configure:\r\n",
        "\r\n",
        "\r\n",
        "*   BERT model to use (model_name)\r\n",
        "*   Learning Rate to use (max_lr)\r\n",
        "*   Momentum (moms)\r\n",
        "*   Epoch number for training (epochs)\r\n",
        "*   Badge size for training (bs)\r\n",
        "*   Weight decay for training (weight_decay)\r\n",
        "*   Maximal sequence length (max_seq_len)\r\n",
        "*   Train size used for both test/train and train/validation split (train_size)\r\n",
        "*   Loss function used for training (loss_func)\r\n",
        "*   The random seed used for shuffling, sampling and splitting (seed)\r\n",
        "*   Whether, or not to use early stopping (es)\r\n",
        "*   The minimal delta used to indicate early stopping (min_delta)\r\n",
        "*   The number of epochs that need to undergo this delta to early stop training (patience)\r\n",
        "*   The way of folding used for this experiment (either test/train split (No), ten-fold cross validation (TenFold), or project specific folding (ProjFold))\r\n",
        "*   Which kind of sampling to use (either OverSampling minority class, UnderSampling majority class, or NoSampling at all)\r\n",
        "\r\n",
        "\r\n",
        "Further one can configure, where to get the dataset from and where to save log, result and model files.\r\n",
        "By setting the classes Array one can decide which binary classifiers to train and evaluate in one experiment run.\r\n",
        "Two booleans are provided to decide whether to\r\n",
        "1. load data from Google Drive or download data from zenodo and to\r\n",
        "2. save the model file.\r\n",
        "\r\n"
      ],
      "metadata": {
        "id": "fV6UzYKR2eSZ",
        "colab_type": "text"
      }
    },
    {
      "cell_type": "code",
      "execution_count": null,
      "source": [
        "class Config(dict):\r\n",
        "    def __init__(self, **kwargs):\r\n",
        "        super().__init__(**kwargs)\r\n",
        "        for k, v in kwargs.items():\r\n",
        "            setattr(self, k, v)\r\n",
        "    \r\n",
        "    def set(self, key, val):\r\n",
        "        self[key] = val\r\n",
        "        setattr(self, key, val)\r\n",
        "\r\n",
        "class Fold(Enum):\r\n",
        "  No = 1\r\n",
        "  TenFold = 2\r\n",
        "  ProjFold = 3\r\n",
        "\r\n",
        "class Sampling(Enum):\r\n",
        "  NoSampling = 1\r\n",
        "  UnderSampling = 2\r\n",
        "  OverSampling = 3\r\n",
        "\r\n",
        "config = Config(\r\n",
        "    num_labels = 2, # will be set automatically afterwards\r\n",
        "    model_name=\"bert-base-cased\", # bert_base_uncased, bert_large_cased, bert_large_uncased\r\n",
        "    max_lr=2e-5, # default: 2e-5\r\n",
        "    moms=(0.8, 0.7), # default: (0.8, 0.7); alt.(0.95, 0.85)\r\n",
        "    epochs=16, # 10, 16, 32, 50\r\n",
        "    bs=16, # default: 16\r\n",
        "    weight_decay = 0.01,\r\n",
        "    max_seq_len=128, # 50, 128\r\n",
        "    train_size=0.75, # 0.8\r\n",
        "    loss_func=nn.CrossEntropyLoss(),\r\n",
        "    seed=904727489, #default: 904727489, 42 (as in Dalpiaz) or None\r\n",
        "    es = False, # True\r\n",
        "    min_delta = 0.01,\r\n",
        "    patience = 3,\r\n",
        "    fold = Fold.No, # Fold.No, Fold.TenFold, Fold.ProjFold\r\n",
        "    sampling = Sampling.NoSampling, #Sampling.UnderSampling, Sampling.NoSampling, Sampling.OverSampling\r\n",
        ")\r\n",
        "\r\n",
        "clazz = 'all' # 'Function', 'Data', 'Behavior' depending on selection in classes\r\n",
        "\r\n",
        "config_data = Config(\r\n",
        "    root_folder = '.', # where is the root folder? Keep it that way if you want to load from Google Drive\r\n",
        "    data_folder = '/', # where is the folder containing the datasets; relative to root\r\n",
        "    train_data = ['func_concerns.csv'], # dataset file to use\r\n",
        "    label_column = clazz,\r\n",
        "    log_folder_name = '/log/',\r\n",
        "    log_file = clazz + '_' + Fold(config.fold).name + '_' + Sampling(config.sampling).name + '_classifierPredictions_' + datetime.now().strftime('%Y%m%d-%H%M') + '.txt', # log-file name (make sure log folder exists)\r\n",
        "    result_file = clazz + '_' + Fold(config.fold).name + '_' + Sampling(config.sampling).name + '_classifierResults_' + datetime.now().strftime('%Y%m%d-%H%M') + '.txt', # result-file name (make sure log folder exists)\r\n",
        "    model_path = '/models/', # where is the folder for the model(s); relative to the root\r\n",
        "    model_name = 'NoRBERT.pkl', # what is the model name? \r\n",
        "    gdrive_root_folder = '/content/drive/My Drive/Code/Task1_to_3_original_Promise_NFR_dataset/', # Set this to the Google Drive path. Starts with '/content/drive/' and then usually 'My Drive/*' for the files in your Drive\r\n",
        "\r\n",
        "    orig_data_set_zip = 'https://zenodo.org/record/5541679/files/NoRBERT_RE20_Paper65.zip', # link to the data set (on zenodo). DO NOT CHANGE!\r\n",
        "    orig_data_zip_name = 'NoRBERT_RE20_Paper65.zip', # DO NOT CHANGE\r\n",
        "    orig_data_file_in_zip = 'Code/Task5_func_concerns_dataset/func_concerns.csv', # DO NOT CHANGE\r\n",
        "\r\n",
        "    # Project split to use, either p-fold (as in Dalpiaz) or loPo\r\n",
        "    #project_fold = [[3, 9, 11], [1, 5, 12], [6, 10, 13], [1, 8, 14], [3, 12, 15], [2, 5, 11], [6, 9, 14], [7, 8, 13], [2, 4, 15], [4, 7, 10] ], # p-fold\r\n",
        "    project_fold = [[1], [2], [3], [4], [5], [6], [7], [8], [9], [10], [11], [12], [13], [14], [15] ], # loPo\r\n",
        "    classes = ['Function', 'Data', 'Behavior'],\r\n",
        "    \r\n",
        ")\r\n",
        "\r\n",
        "load_from_gdrive = False # True, if you want to use Google Drive; else, False\r\n",
        "save_model = False # True, if you want to use save the model file (make sure model folder exists)\r\n",
        "input_col = 'RequirementText'\r\n"
      ],
      "outputs": [],
      "metadata": {
        "colab_type": "code",
        "id": "i0lgLyC6Gsnf",
        "colab": {}
      }
    },
    {
      "cell_type": "markdown",
      "source": [
        "To import the dataset, first we have to either load the data set from zenodo (and unzip the needed file) or connect to our Google drive (if data should be loaded from gdrive). To connect to our Google drive, we have to authenticate the access and mount the drive."
      ],
      "metadata": {
        "colab_type": "text",
        "id": "SVU_viFX-ezy"
      }
    },
    {
      "cell_type": "code",
      "execution_count": null,
      "source": [
        "#@title Prepare data loading: Init loading from Google Drive, if set in config above. Else, download the data set from zenodo (using wget) {display-mode: \"form\"}\r\n",
        "if load_from_gdrive:\r\n",
        "    from google.colab import drive\r\n",
        "    # Connect to drive to load the corpus from there\r\n",
        "    drive.mount('/content/drive', force_remount=True)\r\n",
        "    config_data.root_folder = config_data.gdrive_root_folder\r\n",
        "else:\r\n",
        "    # If the file does not exist already, download the zip and extract the needed file\r\n",
        "    data_path = config_data.root_folder + config_data.data_folder + config_data.train_data[0]\r\n",
        "    data_file = Path(data_path)\r\n",
        "    if not data_file.exists():\r\n",
        "        !wget {config_data.orig_data_set_zip}\r\n",
        "        import zipfile\r\n",
        "        with zipfile.ZipFile(config_data.orig_data_zip_name) as z:\r\n",
        "            with open(data_path, 'wb') as f:\r\n",
        "                f.write(z.read(config_data.orig_data_file_in_zip))"
      ],
      "outputs": [],
      "metadata": {
        "colab_type": "code",
        "id": "OmGISBrhW-VJ",
        "colab": {}
      }
    },
    {
      "cell_type": "code",
      "execution_count": null,
      "source": [
        "#@title Define logging functions and seed generation {display-mode: \"form\"}\r\n",
        "def initLog():\r\n",
        "    logfolder = config_data.root_folder + config_data.log_folder_name\r\n",
        "   \r\n",
        "    if not os.path.isdir(logfolder):\r\n",
        "      print(\"Log folder does not exist, trying to create folder.\")\r\n",
        "      try:\r\n",
        "        os.mkdir(logfolder)\r\n",
        "      except OSError:\r\n",
        "        print (\"Creation of the directory %s failed\" % logfolder)\r\n",
        "      else:\r\n",
        "        print (\"Successfully created the directory %s\" % logfolder)\r\n",
        "    logfile = logfolder + config_data.log_file\r\n",
        "    log_txt = datetime.now().strftime('%Y-%m-%d %H:%M') + ' ' + get_info()\r\n",
        "    with open(logfile, 'w') as log:\r\n",
        "        log.write(log_txt + '\\n')\r\n",
        "\r\n",
        "def logLine(line):\r\n",
        "    logfile = config_data.root_folder + config_data.log_folder_name  + config_data.log_file\r\n",
        "    with open(logfile, 'a') as log:\r\n",
        "        log.write(line + '\\n')\r\n",
        "\r\n",
        "def logResult(result):\r\n",
        "    logfile = config_data.root_folder + config_data.log_folder_name + config_data.result_file\r\n",
        "    with open(logfile, 'a') as log:\r\n",
        "        log.write(get_info() + '\\n')\r\n",
        "        log.write(result + '\\n')\r\n",
        "\r\n",
        "def get_info():\r\n",
        "     model_config = 'model: {}, max_lr: {}, epochs: {}, bs: {}, train_size: {}, weight decay: {},  Seed: {}, Data: {}, Column: {}, EarlyStopping: {}:{};pat:{}'.format(config.model_name, config.max_lr, config.epochs, config.bs, config.train_size, config.weight_decay, config.seed, config_data.train_data, config_data.label_column, config.es, config.min_delta, config.patience)\r\n",
        "     return model_config\r\n",
        "\r\n",
        "def set_seed(seed):\r\n",
        "    if seed is None:\r\n",
        "        seed = random.randint(0, 2**31)\r\n",
        "    random.seed(seed)\r\n",
        "    np.random.seed(seed)\r\n",
        "    torch.manual_seed(seed)\r\n",
        "    return seed\r\n",
        "\r\n",
        "set_seed(config.seed)"
      ],
      "outputs": [],
      "metadata": {
        "colab_type": "code",
        "id": "er1yzLHFQq1U",
        "colab": {}
      }
    },
    {
      "cell_type": "markdown",
      "source": [
        "## Learner"
      ],
      "metadata": {
        "colab_type": "text",
        "id": "Ptp6NhIC_FQb"
      }
    },
    {
      "cell_type": "code",
      "execution_count": null,
      "source": [
        "#@title Create proper tokenizer for our data (adapting FastAiTokenizer to use BertTokenizer) {display-mode: \"form\"}\r\n",
        "class FastAiBertTokenizer(BaseTokenizer):\r\n",
        "    \"\"\"Wrapper around BertTokenizer to be compatible with fast.ai\"\"\"\r\n",
        "    def __init__(self, tokenizer: BertTokenizer, max_seq_len: int=512, **kwargs):\r\n",
        "        self._pretrained_tokenizer = tokenizer\r\n",
        "        self.max_seq_len = max_seq_len\r\n",
        "\r\n",
        "    def __call__(self, *args, **kwargs):\r\n",
        "        return self\r\n",
        "\r\n",
        "    def tokenizer(self, t:str):\r\n",
        "        \"\"\"Limits the maximum sequence length. Prepend with [CLS] and append [SEP]\"\"\"\r\n",
        "        return [\"[CLS]\"] + self._pretrained_tokenizer.tokenize(t)[:self.max_seq_len - 2] + [\"[SEP]\"]\r\n",
        "\r\n"
      ],
      "outputs": [],
      "metadata": {
        "colab_type": "code",
        "id": "6anB63ppBAtB",
        "colab": {}
      }
    },
    {
      "cell_type": "markdown",
      "source": [
        "Now, we can create our own databunch using the tokenizer above. Notice we're passing the include_bos=False and include_eos=False options. This is to prevent fastai from adding its own SOS/EOS tokens that will interfere with BERT's SOS/EOS tokens.\r\n",
        "\r\n",
        "We can pass our own list of Preprocessors to the databunch."
      ],
      "metadata": {
        "colab_type": "text",
        "id": "1G8rFbEEJWyu"
      }
    },
    {
      "cell_type": "code",
      "execution_count": null,
      "source": [
        "#@title Define Processors and Databunch {display-mode: \"form\"}\r\n",
        "class BertTokenizeProcessor(TokenizeProcessor):\r\n",
        "    \"\"\"Special Tokenizer, where we remove sos/eos tokens since we add that ourselves in the tokenizer.\"\"\"\r\n",
        "    def __init__(self, tokenizer):\r\n",
        "        super().__init__(tokenizer=tokenizer, include_bos=False, include_eos=False)\r\n",
        "\r\n",
        "class BertNumericalizeProcessor(NumericalizeProcessor):\r\n",
        "    \"\"\"Use a custom vocabulary to match the original BERT model.\"\"\"\r\n",
        "    def __init__(self, *args, **kwargs):\r\n",
        "        super().__init__(*args, vocab=Vocab(list(bert_tok.vocab.keys())), **kwargs)\r\n",
        "\r\n",
        "def get_bert_processor(tokenizer:Tokenizer=None, vocab:Vocab=None):\r\n",
        "    return [BertTokenizeProcessor(tokenizer=tokenizer),\r\n",
        "            NumericalizeProcessor(vocab=vocab)]\r\n",
        "\r\n",
        "class BertDataBunch(TextDataBunch):\r\n",
        "    @classmethod\r\n",
        "    def from_df(cls, path:PathOrStr, train_df:DataFrame, valid_df:DataFrame, test_df:Optional[DataFrame]=None,\r\n",
        "              tokenizer:Tokenizer=None, vocab:Vocab=None, classes:Collection[str]=None, text_cols:IntsOrStrs=1,\r\n",
        "              label_cols:IntsOrStrs=0, **kwargs) -> DataBunch:\r\n",
        "        \"Create a `TextDataBunch` from DataFrames.\"\r\n",
        "        p_kwargs, kwargs = split_kwargs_by_func(kwargs, get_bert_processor)\r\n",
        "        # use our custom processors while taking tokenizer and vocab as kwargs\r\n",
        "        processor = get_bert_processor(tokenizer=tokenizer, vocab=vocab, **p_kwargs)\r\n",
        "        if classes is None and is_listy(label_cols) and len(label_cols) > 1: classes = label_cols\r\n",
        "        src = ItemLists(path, TextList.from_df(train_df, path, cols=text_cols, processor=processor),\r\n",
        "                      TextList.from_df(valid_df, path, cols=text_cols, processor=processor))\r\n",
        "        src = src.label_for_lm() if cls==TextLMDataBunch else src.label_from_df(cols=label_cols, classes=classes)\r\n",
        "        if test_df is not None: src.add_test(TextList.from_df(test_df, path, cols=text_cols))\r\n",
        "        return src.databunch(**kwargs)"
      ],
      "outputs": [],
      "metadata": {
        "colab_type": "code",
        "id": "TNRRj6jIJrp2",
        "colab": {}
      }
    },
    {
      "cell_type": "code",
      "execution_count": null,
      "source": [
        "#@title Define own BertTextClassifier class{display-mode: \"form\"}\r\n",
        "class BertTextClassifier(BertPreTrainedModel):\r\n",
        "    def __init__(self, model_name, num_labels):\r\n",
        "        config = BertConfig.from_pretrained(model_name)\r\n",
        "        super(BertTextClassifier, self).__init__(config)\r\n",
        "        self.num_labels = num_labels\r\n",
        "        \r\n",
        "        self.bert = BertModel.from_pretrained(model_name, config=config)\r\n",
        "        \r\n",
        "        self.dropout = nn.Dropout(self.config.hidden_dropout_prob)\r\n",
        "        self.classifier = nn.Linear(self.config.hidden_size, num_labels)\r\n",
        "\r\n",
        "    \r\n",
        "    def forward(self, tokens, labels=None, position_ids=None, token_type_ids=None, attention_mask=None, head_mask=None):\r\n",
        "        outputs = self.bert(tokens, position_ids=position_ids, token_type_ids=token_type_ids, attention_mask=attention_mask, head_mask=head_mask)\r\n",
        "        \r\n",
        "        pooled_output = outputs[1]\r\n",
        "\r\n",
        "        dropout_output = self.dropout(pooled_output)\r\n",
        "        logits = self.classifier(dropout_output)\r\n",
        "\r\n",
        "        activation = nn.Softmax(dim=1)\r\n",
        "        probs = activation(logits)   \r\n",
        "\r\n",
        "        return logits"
      ],
      "outputs": [],
      "metadata": {
        "id": "he_PRt9Q3eUB",
        "colab_type": "code",
        "colab": {}
      }
    },
    {
      "cell_type": "markdown",
      "source": [
        "## Data"
      ],
      "metadata": {
        "id": "szgvbiQ_4lYv",
        "colab_type": "text"
      }
    },
    {
      "cell_type": "markdown",
      "source": [
        "Load the dataset"
      ],
      "metadata": {
        "colab_type": "text",
        "id": "IwxQFKykzpQq"
      }
    },
    {
      "cell_type": "code",
      "execution_count": null,
      "source": [
        "#@title Define functions to load data {display-mode: \"form\"}\r\n",
        "def load_data(filename):\r\n",
        "    fpath = config_data.root_folder + config_data.data_folder + filename\r\n",
        "    print(fpath)\r\n",
        "    df = pd.read_csv(fpath, delimiter=';', header=0, encoding='utf8', names=['ProjectID', 'RequirementText', 'Function', 'Data', 'Behavior',])\r\n",
        "    df = df.dropna()\r\n",
        "    return df\r\n",
        "\r\n",
        "def load_all_data(filenames, label_column):\r\n",
        "    df = load_data(filenames[0])\r\n",
        "    for i in range(1, len(filenames)):\r\n",
        "        df = df.append(load_data(filenames[i]))\r\n",
        "\r\n",
        "    # shuffle the dataset a bit and get the amount of classes\r\n",
        "    df = df.sample(frac=1, axis=0, random_state = config.seed)\r\n",
        "    config.num_labels = df[label_column].nunique()\r\n",
        "\r\n",
        "    print(df.shape)\r\n",
        "    print(df[label_column].value_counts())\r\n",
        "    return df\r\n",
        "\r\n"
      ],
      "outputs": [],
      "metadata": {
        "colab_type": "code",
        "id": "oeaTvNRTypP0",
        "colab": {}
      }
    },
    {
      "cell_type": "code",
      "execution_count": null,
      "source": [
        "#@title Create the dictionary that contains the labels along with their indices. This is useful for evaluation and similar. {display-mode: \"form\"}\r\n",
        "def create_label_indices(df):\r\n",
        "    #prepare label\r\n",
        "    labels = ['not_' + config_data.label_column, config_data.label_column]\r\n",
        "  \r\n",
        "    #create dict\r\n",
        "    labelDict = dict()\r\n",
        "    for i in range (0, len(labels)):\r\n",
        "        labelDict[i] = labels[i]\r\n",
        "    return labelDict\r\n",
        "\r\n",
        "#label_indices = create_label_indices(df)\r\n",
        "#print(label_indices)"
      ],
      "outputs": [],
      "metadata": {
        "colab_type": "code",
        "id": "TWP1X17N5tJx",
        "colab": {}
      }
    },
    {
      "cell_type": "code",
      "execution_count": null,
      "source": [
        "#@title Define functions for under-/oversample dataset {display-mode: \"form\"}\r\n",
        "def undersample(df_trn, major_label, minor_label):\r\n",
        "  sample_size = sum(df_trn[config_data.label_column] == minor_label)\r\n",
        "  majority_indices = df_trn[df_trn[config_data.label_column] == major_label].index\r\n",
        "  random_indices = np.random.choice(majority_indices, sample_size, replace=False)\r\n",
        "  sample = df_trn.loc[random_indices]\r\n",
        "  sample = sample.append(df_trn[df_trn[config_data.label_column] == minor_label])\r\n",
        "  df_trn = sample\r\n",
        "  df_trn = df_trn.sample(frac=1, axis=0, random_state = config.seed)\r\n",
        "  print(df_trn[config_data.label_column].value_counts())\r\n",
        "  return df_trn\r\n",
        "\r\n",
        "def oversample(df_trn, major_label, minor_label):\r\n",
        "  minor_size = sum(df_trn[config_data.label_column] == minor_label)\r\n",
        "  major_size = sum(df_trn[config_data.label_column] == major_label)\r\n",
        "  multiplier = major_size//minor_size\r\n",
        "  sample = df_trn\r\n",
        "  minority_indices = df_trn[df_trn[config_data.label_column] == minor_label].index\r\n",
        "  diff = major_size - (multiplier * minor_size)     \r\n",
        "  random_indices = np.random.choice(minority_indices, diff, replace=False)\r\n",
        "  sample = pd.concat([df_trn.loc[random_indices], sample], ignore_index=True)\r\n",
        "  for i in range(multiplier - 1):\r\n",
        "    sample = pd.concat([sample, df_trn[df_trn[config_data.label_column] == minor_label]], ignore_index=True)\r\n",
        "  df_trn = sample\r\n",
        "  df_trn = df_trn.sample(frac=1, axis=0, random_state = config.seed)\r\n",
        "  print(df_trn[config_data.label_column].value_counts())\r\n",
        "  return df_trn"
      ],
      "outputs": [],
      "metadata": {
        "id": "N0SbQzgo48H6",
        "colab_type": "code",
        "colab": {}
      }
    },
    {
      "cell_type": "code",
      "execution_count": null,
      "source": [
        "#@title Function to split dataframe according to Sampling strategy and train size {display-mode: \"form\"}\r\n",
        "def split_dataframe(df, train_size = 0.8, random_state = None):\r\n",
        "    # split data into training and validation set\r\n",
        "    df_trn, df_valid = train_test_split(df, stratify = df[config_data.label_column], train_size = train_size, random_state = random_state)\r\n",
        "    # apply sample strategy\r\n",
        "    sizeOne = sum(df_trn[config_data.label_column] == 1)\r\n",
        "    sizeZero = sum(df_trn[config_data.label_column] == 0)\r\n",
        "    major_label = 0\r\n",
        "    minor_label = 1\r\n",
        "    if sizeOne > sizeZero:\r\n",
        "      major_label = 1\r\n",
        "      minor_label = 0\r\n",
        "    if config.sampling == Sampling.UnderSampling:\r\n",
        "      df_trn = undersample(df_trn, major_label, minor_label)\r\n",
        "    elif config.sampling == Sampling.OverSampling:\r\n",
        "      df_trn = oversample(df_trn, major_label, minor_label)\r\n",
        "    return df_trn, df_valid"
      ],
      "outputs": [],
      "metadata": {
        "id": "0OPZm4-t5AeI",
        "colab_type": "code",
        "colab": {}
      }
    },
    {
      "cell_type": "markdown",
      "source": [
        "## Predictor\r\n"
      ],
      "metadata": {
        "colab_type": "text",
        "id": "SClv488eQC8B"
      }
    },
    {
      "cell_type": "code",
      "execution_count": null,
      "source": [
        "#@title Create a predictor class{display-mode: \"form\"}\r\n",
        "class Predictor:\r\n",
        "    def __init__(self, classifier):\r\n",
        "        self.classifier = classifier\r\n",
        "        self.classes = self.classifier.data.classes\r\n",
        "\r\n",
        "    def predict(self, text):\r\n",
        "        prediction = self.classifier.predict(text)\r\n",
        "        prediction_class = prediction[1]\r\n",
        "        return self.classes[prediction_class]  "
      ],
      "outputs": [],
      "metadata": {
        "colab_type": "code",
        "id": "qubb_Ka-C78O",
        "colab": {}
      }
    },
    {
      "cell_type": "markdown",
      "source": [
        "## Create and train the learner/classifier\r\n"
      ],
      "metadata": {
        "colab_type": "text",
        "id": "zyVQS13d5Sft"
      }
    },
    {
      "cell_type": "code",
      "execution_count": null,
      "source": [
        "#@title Define functions to create databunch, learner and actual classifier{display-mode: \"form\"}\r\n",
        "def create_databunch(config, df_trn, df_valid):\r\n",
        "    bert_tok = BertTokenizer.from_pretrained(config.model_name,)\r\n",
        "    fastai_tokenizer = Tokenizer(tok_func=FastAiBertTokenizer(bert_tok, max_seq_len=config.max_seq_len), pre_rules=[], post_rules=[])\r\n",
        "    fastai_bert_vocab = Vocab(list(bert_tok.vocab.keys()))\r\n",
        "    return BertDataBunch.from_df(\".\", \r\n",
        "                   train_df=df_trn,\r\n",
        "                   valid_df=df_valid,\r\n",
        "                   tokenizer=fastai_tokenizer,\r\n",
        "                   vocab=fastai_bert_vocab,\r\n",
        "                   bs=config.bs,\r\n",
        "                   text_cols=input_col,\r\n",
        "                   label_cols=config_data.label_column,\r\n",
        "                   collate_fn=partial(pad_collate, pad_first=False, pad_idx=0),\r\n",
        "              )\r\n",
        "\r\n",
        "\r\n",
        "def create_learner(config, databunch):\r\n",
        "    model = BertTextClassifier(config.model_name, config.num_labels)\r\n",
        "\r\n",
        "    optimizer = partial(AdamW)\r\n",
        "    if config.es:\r\n",
        "      learner = Learner(\r\n",
        "        databunch, model,\r\n",
        "        optimizer,\r\n",
        "        wd = config.weight_decay,\r\n",
        "        metrics=FBeta(beta=1), #accuracy, (metric to optimize on)\r\n",
        "        loss_func=config.loss_func, callback_fns=[partial(EarlyStoppingCallback, monitor='f_beta', min_delta=config.min_delta, patience=config.patience)]\r\n",
        "      )\r\n",
        "    else:\r\n",
        "      learner = Learner(\r\n",
        "        databunch, model,\r\n",
        "        optimizer,\r\n",
        "        wd = config.weight_decay,\r\n",
        "        metrics=FBeta(beta=1), #accuracy, (metric to optimize on)\r\n",
        "        loss_func=config.loss_func,\r\n",
        "      )\r\n",
        "    \r\n",
        "    return learner\r\n",
        "\r\n",
        "# Create the classifier\r\n",
        "def create_classifier(config, df):\r\n",
        "  df_trn, df_valid = split_dataframe(df, train_size = config.train_size, random_state = config.seed)\r\n",
        "  databunch = create_databunch(config, df_trn, df_valid)\r\n",
        "\r\n",
        "  return create_learner(config, databunch)"
      ],
      "outputs": [],
      "metadata": {
        "colab_type": "code",
        "id": "T83UogVz5XJJ",
        "colab": {}
      }
    },
    {
      "cell_type": "code",
      "execution_count": null,
      "source": [
        "#@title Define predict loop {display-mode: \"form\"}\r\n",
        "def predict_and_log_result(classifier, df_eval):\r\n",
        "  predictor = Predictor(classifier)\r\n",
        "  flat_predictions, flat_true_labels = [], []\r\n",
        "  column_index = df_eval.columns.get_loc(config_data.label_column)\r\n",
        "  for row in progress_bar(df_eval.itertuples(), total=len(df_eval)):\r\n",
        "      class_text = row.RequirementText\r\n",
        "      class_label = row[column_index+1]\r\n",
        "      flat_true_labels.append(class_label)\r\n",
        "      prediction = predictor.predict(class_text)\r\n",
        "      flat_predictions.append(prediction)\r\n",
        "\r\n",
        "      log_text = 'PID: {}, {}, {} -> {}'.format(row.ProjectID, class_text, label_indices.get(class_label), label_indices.get(prediction))\r\n",
        "      logLine(log_text)\r\n",
        "  \r\n",
        "  # get labels in correct order\r\n",
        "  target_names = []\r\n",
        "  test_labels = unique_labels(flat_true_labels, flat_predictions) \r\n",
        "  test_labels = np.sort(test_labels)\r\n",
        "  for x in test_labels:\r\n",
        "    target_names.append(label_indices.get(x))\r\n",
        "\r\n",
        "  result = classification_report(flat_true_labels, flat_predictions, target_names=target_names, digits = 5)\r\n",
        "  logResult(result)\r\n",
        "  print(result)\r\n",
        "  return flat_predictions, flat_true_labels"
      ],
      "outputs": [],
      "metadata": {
        "id": "pG6ZIYAB6C-y",
        "colab_type": "code",
        "colab": {}
      }
    },
    {
      "cell_type": "code",
      "execution_count": null,
      "source": [
        "#@title Define train and test loop{display-mode: \"form\"}\r\n",
        "def train_and_predict(df_train, df_eval, overall_flat_predictions, overall_flat_true_labels, results):\r\n",
        "  classifier = create_classifier(config, df_train)\r\n",
        "  # Train the classifier on train set\r\n",
        "  print(classifier.fit_one_cycle(config.epochs, max_lr=config.max_lr, moms=config.moms, wd=config.weight_decay))\r\n",
        "  #Predict on test set\r\n",
        "  flat_predictions, flat_true_labels = predict_and_log_result(classifier, df_eval)\r\n",
        "  overall_flat_predictions.extend(flat_predictions)\r\n",
        "  overall_flat_true_labels.extend(flat_true_labels)\r\n",
        "  test_labels = df_eval[config_data.label_column].unique()\r\n",
        "  test_labels = np.sort(test_labels)\r\n",
        "  results.extend(precision_recall_fscore_support(flat_true_labels, flat_predictions, labels = test_labels))\r\n",
        "  return classifier, overall_flat_predictions, overall_flat_true_labels, results"
      ],
      "outputs": [],
      "metadata": {
        "id": "Ngzo2_rKAXs2",
        "colab_type": "code",
        "colab": {}
      }
    },
    {
      "cell_type": "code",
      "execution_count": null,
      "source": [
        "#@title Define function to calculate averaged metric results {display-mode: \"form\"}\r\n",
        "def calcAverageMetrics(results):\r\n",
        "  precisions, recalls, fscores = [], [], []\r\n",
        "  for i in range(int(len(results)/4)):\r\n",
        "    precisions.append(results[i*4])\r\n",
        "    recalls.append(results[i*4+1])\r\n",
        "    fscores.append(results[i*4+2])\r\n",
        "  precision = [0]*len(precisions[0])\r\n",
        "  recall = [0]*len(recalls[0])\r\n",
        "  fscore = [0]*len(fscores[0])\r\n",
        "  for i in range(len(precisions)):\r\n",
        "    precision = precision + precisions[i]\r\n",
        "    recall = recall + recalls[i]\r\n",
        "    fscore = fscore + fscores[i]\r\n",
        "  precision = precision / int(len(results)/4)\r\n",
        "  recall = recall / int(len(results)/4)\r\n",
        "  fscore = fscore / int(len(results)/4)\r\n",
        "  return precision, recall, fscore"
      ],
      "outputs": [],
      "metadata": {}
    },
    {
      "cell_type": "code",
      "execution_count": null,
      "source": [
        "#@title Decide how to fold and train the classifier {display-mode: \"form\"}\r\n",
        "# run train/eval loop for each in classes defined class subsequently\r\n",
        "for cl in config_data.classes:\r\n",
        "  config_data.label_column = cl\r\n",
        "  # load the train dataset\r\n",
        "  df = load_all_data(config_data.train_data, cl)\r\n",
        "  label_indices = create_label_indices(df)\r\n",
        "  print(label_indices)\r\n",
        "\r\n",
        "  overall_flat_predictions, overall_flat_true_labels, results = [], [], []\r\n",
        "  initLog()\r\n",
        "  if config.fold == Fold.TenFold:\r\n",
        "    skf = StratifiedKFold(n_splits=10)\r\n",
        "    fold_number = 1\r\n",
        "    for train, test in skf.split(df, df[config_data.label_column]):\r\n",
        "      df_train = df.iloc[train]\r\n",
        "      df_eval = df.iloc[test]\r\n",
        "      log_text = '/////////////////////// Fold: {} of {} /////////////////////////////'.format(fold_number,10)\r\n",
        "      logLine(log_text)\r\n",
        "      classifier, overall_flat_predictions, overall_flat_true_labels, results = train_and_predict(df_train, df_eval, overall_flat_predictions, overall_flat_true_labels, results)\r\n",
        "      fold_number = fold_number + 1\r\n",
        "  elif config.fold == Fold.ProjFold:     \r\n",
        "    for k in config_data.project_fold:\r\n",
        "      test = df.loc[df['ProjectID'].isin(k)].index\r\n",
        "      train = df.loc[~df['ProjectID'].isin(k)].index\r\n",
        "      df_train = df.loc[train]\r\n",
        "      df_eval = df.loc[test]\r\n",
        "      log_text = '/////////////////////// Test-Projects: {} /////////////////////////////'.format(k)\r\n",
        "      logLine(log_text)\r\n",
        "      classifier, overall_flat_predictions, overall_flat_true_labels, results = train_and_predict(df_train, df_eval, overall_flat_predictions, overall_flat_true_labels, results)\r\n",
        "  else:\r\n",
        "    df_train, df_eval = train_test_split(df,stratify=df[config_data.label_column], train_size=config.train_size, random_state= config.seed)\r\n",
        "    classifier, overall_flat_predictions, overall_flat_true_labels, results = train_and_predict(df_train, df_eval, overall_flat_predictions, overall_flat_true_labels, results)\r\n",
        "\r\n",
        "  target_names = []\r\n",
        "  test_labels = df_eval[config_data.label_column].unique()\r\n",
        "\r\n",
        "  test_labels = np.sort(test_labels)\r\n",
        "  for x in test_labels:\r\n",
        "      target_names.append(label_indices.get(x))\r\n",
        "\r\n",
        "  print('/////////////////////// Aggregated Predictions Result /////////////////////////////')\r\n",
        "  logResult('/////////////////////// Aggregated Predictions Result /////////////////////////////')\r\n",
        "  result = classification_report(overall_flat_true_labels, overall_flat_predictions, target_names=target_names, digits = 5)\r\n",
        "  logResult(result)\r\n",
        "  print(result)\r\n",
        "  print('/////////////////////// Averaged Metrics Result /////////////////////////////')\r\n",
        "  logResult('/////////////////////// Averaged Metrics Result /////////////////////////////')\r\n",
        "  precision, recall, fscore = calcAverageMetrics(results)\r\n",
        "  print(\"              precision    recall  f1-score\")\r\n",
        "  logResult(\"              precision    recall  f1-score\")\r\n",
        "  for i in range(len(precision)):\r\n",
        "    print('{:<14}'.format(target_names[i]) + '  {:.5f}'.format(precision[i]) + '   {:.5f}'.format(recall[i]) + '   {:.5f}'.format(fscore[i]))\r\n",
        "    logResult('{:<14}'.format(target_names[i]) + '  {:.5f}'.format(precision[i]) + '   {:.5f}'.format(recall[i]) + '   {:.5f}'.format(fscore[i]))"
      ],
      "outputs": [],
      "metadata": {
        "id": "sqGyLEubBw60",
        "colab_type": "code",
        "colab": {}
      }
    },
    {
      "cell_type": "markdown",
      "source": [
        "# Save Model"
      ],
      "metadata": {
        "id": "UeoCn0Bs-Wds",
        "colab_type": "text"
      }
    },
    {
      "cell_type": "code",
      "execution_count": null,
      "source": [
        "#@title Save the model along with its config\r\n",
        "def create_model_name():\r\n",
        "    name = 'NoRBERT_{clasz}_e{epochs}_{sampling}'.format(clasz=clazz, epochs=str(config.epochs),sampling=Sampling(config.sampling).name)\r\n",
        "    return name\r\n",
        "\r\n",
        "def save_config(model_save_path, model_name):\r\n",
        "    settings = ''\r\n",
        "    for item in config.__dict__:\r\n",
        "        value = config[item]\r\n",
        "        setting = '{item}={value},\\n'.format(item=item, value=value)\r\n",
        "        settings += setting\r\n",
        "    save_path = model_save_path + model_name + '.config'\r\n",
        "    with open(save_path, 'w', encoding='utf-8') as out:\r\n",
        "        out.write(settings)\r\n",
        "\r\n",
        "if save_model:\r\n",
        "  model_name = create_model_name()\r\n",
        "  model_save_path = config_data.root_folder + config_data.model_path\r\n",
        "  if not os.path.isdir(model_save_path):\r\n",
        "    print(\"Models folder does not exist, trying to create folder.\")\r\n",
        "    try:\r\n",
        "      os.mkdir(model_save_path)\r\n",
        "    except OSError:\r\n",
        "      print (\"Creation of the directory %s failed\" % model_save_path)\r\n",
        "    else:\r\n",
        "      print (\"Successfully created the directory %s\" % model_save_path)\r\n",
        "  save_config(model_save_path, model_name)\r\n",
        "  model_save_file = model_save_path + model_name + '.pkl'\r\n",
        "  classifier.export(file = model_save_file)"
      ],
      "outputs": [],
      "metadata": {
        "colab_type": "code",
        "id": "DXTWGILJ4kJx",
        "cellView": "form",
        "colab": {}
      }
    }
  ]
}
